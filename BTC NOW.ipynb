{
 "cells": [
  {
   "cell_type": "code",
   "execution_count": 2,
   "id": "72128a76",
   "metadata": {},
   "outputs": [
    {
     "name": "stderr",
     "output_type": "stream",
     "text": [
      "\r",
      "[*********************100%***********************]  1 of 1 completed"
     ]
    },
    {
     "name": "stdout",
     "output_type": "stream",
     "text": [
      "                  Open        High         Low       Close   Adj Close  \\\n",
      "Date                                                                     \n",
      "2014-09-17  465.864014  468.174011  452.421997  457.334015  457.334015   \n",
      "2014-09-18  456.859985  456.859985  413.104004  424.440002  424.440002   \n",
      "2014-09-19  424.102997  427.834991  384.532013  394.795990  394.795990   \n",
      "2014-09-20  394.673004  423.295990  389.882996  408.903992  408.903992   \n",
      "2014-09-21  408.084991  412.425995  393.181000  398.821014  398.821014   \n",
      "\n",
      "              Volume  \n",
      "Date                  \n",
      "2014-09-17  21056800  \n",
      "2014-09-18  34483200  \n",
      "2014-09-19  37919700  \n",
      "2014-09-20  36863600  \n",
      "2014-09-21  26580100  \n"
     ]
    },
    {
     "name": "stderr",
     "output_type": "stream",
     "text": [
      "\n"
     ]
    }
   ],
   "source": [
    "import yfinance as yf\n",
    "import pandas as pd\n",
    "\n",
    "# Baixando os dados históricos do Bitcoin\n",
    "btc_data = yf.download(tickers=\"BTC-USD\", start=\"2014-01-01\", interval=\"1d\")\n",
    "\n",
    "# Verificando os dados baixados\n",
    "print(btc_data.head())\n"
   ]
  },
  {
   "cell_type": "code",
   "execution_count": 30,
   "id": "cf310edc",
   "metadata": {},
   "outputs": [
    {
     "name": "stderr",
     "output_type": "stream",
     "text": [
      "[*********************100%***********************]  1 of 1 completed\n"
     ]
    },
    {
     "data": {
      "application/vnd.plotly.v1+json": {
       "config": {
        "plotlyServerURL": "https://plot.ly"
       },
       "data": [
        {
         "hovertemplate": "variable=Volume_Brazil<br>Hora (BRT)=%{x}<br>value=%{y}<extra></extra>",
         "legendgroup": "Volume_Brazil",
         "line": {
          "color": "#636efa",
          "dash": "solid"
         },
         "marker": {
          "symbol": "circle"
         },
         "mode": "lines",
         "name": "Volume_Brazil",
         "orientation": "v",
         "showlegend": true,
         "type": "scatter",
         "x": [
          0,
          1,
          2,
          3,
          4,
          5,
          6,
          7,
          8,
          9,
          10,
          11,
          12,
          13,
          14,
          15,
          16,
          17,
          18,
          19,
          20,
          21,
          22,
          23
         ],
         "xaxis": "x",
         "y": [
          110922604544,
          91903556608,
          95659001856,
          97215305216,
          108148986880,
          104150913536,
          99137181696,
          92318456320,
          105246625280,
          131570557440,
          147929823744,
          201735719424,
          194935398912,
          177103823360,
          152565200896,
          161843222528,
          162012846080,
          155609076736,
          117401820160,
          101165505536,
          102231512064,
          103608233984,
          119697591296,
          115142831104
         ],
         "yaxis": "y"
        },
        {
         "hovertemplate": "variable=Volume_Asia<br>Hora (BRT)=%{x}<br>value=%{y}<extra></extra>",
         "legendgroup": "Volume_Asia",
         "line": {
          "color": "#EF553B",
          "dash": "solid"
         },
         "marker": {
          "symbol": "circle"
         },
         "mode": "lines",
         "name": "Volume_Asia",
         "orientation": "v",
         "showlegend": true,
         "type": "scatter",
         "x": [
          0,
          1,
          2,
          3,
          4,
          5,
          6,
          7,
          8,
          9,
          10,
          11,
          12,
          13,
          14,
          15,
          16,
          17,
          18,
          19,
          20,
          21,
          22,
          23
         ],
         "xaxis": "x",
         "y": [
          194935398912,
          177103823360,
          152565200896,
          161843222528,
          162012846080,
          155609076736,
          117401820160,
          101165505536,
          102231512064,
          103608233984,
          119697591296,
          115142831104,
          110922604544,
          91903556608,
          95659001856,
          97215305216,
          108148986880,
          104150913536,
          99137181696,
          92318456320,
          105246625280,
          131570557440,
          147929823744,
          201735719424
         ],
         "yaxis": "y"
        },
        {
         "hovertemplate": "variable=Volume_Europe<br>Hora (BRT)=%{x}<br>value=%{y}<extra></extra>",
         "legendgroup": "Volume_Europe",
         "line": {
          "color": "#00cc96",
          "dash": "solid"
         },
         "marker": {
          "symbol": "circle"
         },
         "mode": "lines",
         "name": "Volume_Europe",
         "orientation": "v",
         "showlegend": true,
         "type": "scatter",
         "x": [
          0,
          1,
          2,
          3,
          4,
          5,
          6,
          7,
          8,
          9,
          10,
          11,
          12,
          13,
          14,
          15,
          16,
          17,
          18,
          19,
          20,
          21,
          22,
          23
         ],
         "xaxis": "x",
         "y": [
          102231512064,
          103608233984,
          119697591296,
          115142831104,
          110922604544,
          91903556608,
          95659001856,
          97215305216,
          108148986880,
          104150913536,
          99137181696,
          92318456320,
          105246625280,
          131570557440,
          147929823744,
          201735719424,
          194935398912,
          177103823360,
          152565200896,
          161843222528,
          162012846080,
          155609076736,
          117401820160,
          101165505536
         ],
         "yaxis": "y"
        },
        {
         "hovertemplate": "variable=Volume_US<br>Hora (BRT)=%{x}<br>value=%{y}<extra></extra>",
         "legendgroup": "Volume_US",
         "line": {
          "color": "#ab63fa",
          "dash": "solid"
         },
         "marker": {
          "symbol": "circle"
         },
         "mode": "lines",
         "name": "Volume_US",
         "orientation": "v",
         "showlegend": true,
         "type": "scatter",
         "x": [
          0,
          1,
          2,
          3,
          4,
          5,
          6,
          7,
          8,
          9,
          10,
          11,
          12,
          13,
          14,
          15,
          16,
          17,
          18,
          19,
          20,
          21,
          22,
          23
         ],
         "xaxis": "x",
         "y": [
          95659001856,
          97215305216,
          108148986880,
          104150913536,
          99137181696,
          92318456320,
          105246625280,
          131570557440,
          147929823744,
          201735719424,
          194935398912,
          177103823360,
          152565200896,
          161843222528,
          162012846080,
          155609076736,
          117401820160,
          101165505536,
          102231512064,
          103608233984,
          119697591296,
          115142831104,
          110922604544,
          91903556608
         ],
         "yaxis": "y"
        }
       ],
       "layout": {
        "annotations": [
         {
          "align": "center",
          "font": {
           "color": "white",
           "size": 12
          },
          "showarrow": false,
          "text": "Dados de Transações de Bitcoin para o Último Ano",
          "x": 0.5,
          "xref": "paper",
          "y": -0.15,
          "yref": "paper"
         }
        ],
        "hovermode": "x unified",
        "legend": {
         "title": {
          "text": "variable"
         },
         "tracegroupgap": 0
        },
        "showlegend": true,
        "template": {
         "data": {
          "bar": [
           {
            "error_x": {
             "color": "#f2f5fa"
            },
            "error_y": {
             "color": "#f2f5fa"
            },
            "marker": {
             "line": {
              "color": "rgb(17,17,17)",
              "width": 0.5
             },
             "pattern": {
              "fillmode": "overlay",
              "size": 10,
              "solidity": 0.2
             }
            },
            "type": "bar"
           }
          ],
          "barpolar": [
           {
            "marker": {
             "line": {
              "color": "rgb(17,17,17)",
              "width": 0.5
             },
             "pattern": {
              "fillmode": "overlay",
              "size": 10,
              "solidity": 0.2
             }
            },
            "type": "barpolar"
           }
          ],
          "carpet": [
           {
            "aaxis": {
             "endlinecolor": "#A2B1C6",
             "gridcolor": "#506784",
             "linecolor": "#506784",
             "minorgridcolor": "#506784",
             "startlinecolor": "#A2B1C6"
            },
            "baxis": {
             "endlinecolor": "#A2B1C6",
             "gridcolor": "#506784",
             "linecolor": "#506784",
             "minorgridcolor": "#506784",
             "startlinecolor": "#A2B1C6"
            },
            "type": "carpet"
           }
          ],
          "choropleth": [
           {
            "colorbar": {
             "outlinewidth": 0,
             "ticks": ""
            },
            "type": "choropleth"
           }
          ],
          "contour": [
           {
            "colorbar": {
             "outlinewidth": 0,
             "ticks": ""
            },
            "colorscale": [
             [
              0,
              "#0d0887"
             ],
             [
              0.1111111111111111,
              "#46039f"
             ],
             [
              0.2222222222222222,
              "#7201a8"
             ],
             [
              0.3333333333333333,
              "#9c179e"
             ],
             [
              0.4444444444444444,
              "#bd3786"
             ],
             [
              0.5555555555555556,
              "#d8576b"
             ],
             [
              0.6666666666666666,
              "#ed7953"
             ],
             [
              0.7777777777777778,
              "#fb9f3a"
             ],
             [
              0.8888888888888888,
              "#fdca26"
             ],
             [
              1,
              "#f0f921"
             ]
            ],
            "type": "contour"
           }
          ],
          "contourcarpet": [
           {
            "colorbar": {
             "outlinewidth": 0,
             "ticks": ""
            },
            "type": "contourcarpet"
           }
          ],
          "heatmap": [
           {
            "colorbar": {
             "outlinewidth": 0,
             "ticks": ""
            },
            "colorscale": [
             [
              0,
              "#0d0887"
             ],
             [
              0.1111111111111111,
              "#46039f"
             ],
             [
              0.2222222222222222,
              "#7201a8"
             ],
             [
              0.3333333333333333,
              "#9c179e"
             ],
             [
              0.4444444444444444,
              "#bd3786"
             ],
             [
              0.5555555555555556,
              "#d8576b"
             ],
             [
              0.6666666666666666,
              "#ed7953"
             ],
             [
              0.7777777777777778,
              "#fb9f3a"
             ],
             [
              0.8888888888888888,
              "#fdca26"
             ],
             [
              1,
              "#f0f921"
             ]
            ],
            "type": "heatmap"
           }
          ],
          "heatmapgl": [
           {
            "colorbar": {
             "outlinewidth": 0,
             "ticks": ""
            },
            "colorscale": [
             [
              0,
              "#0d0887"
             ],
             [
              0.1111111111111111,
              "#46039f"
             ],
             [
              0.2222222222222222,
              "#7201a8"
             ],
             [
              0.3333333333333333,
              "#9c179e"
             ],
             [
              0.4444444444444444,
              "#bd3786"
             ],
             [
              0.5555555555555556,
              "#d8576b"
             ],
             [
              0.6666666666666666,
              "#ed7953"
             ],
             [
              0.7777777777777778,
              "#fb9f3a"
             ],
             [
              0.8888888888888888,
              "#fdca26"
             ],
             [
              1,
              "#f0f921"
             ]
            ],
            "type": "heatmapgl"
           }
          ],
          "histogram": [
           {
            "marker": {
             "pattern": {
              "fillmode": "overlay",
              "size": 10,
              "solidity": 0.2
             }
            },
            "type": "histogram"
           }
          ],
          "histogram2d": [
           {
            "colorbar": {
             "outlinewidth": 0,
             "ticks": ""
            },
            "colorscale": [
             [
              0,
              "#0d0887"
             ],
             [
              0.1111111111111111,
              "#46039f"
             ],
             [
              0.2222222222222222,
              "#7201a8"
             ],
             [
              0.3333333333333333,
              "#9c179e"
             ],
             [
              0.4444444444444444,
              "#bd3786"
             ],
             [
              0.5555555555555556,
              "#d8576b"
             ],
             [
              0.6666666666666666,
              "#ed7953"
             ],
             [
              0.7777777777777778,
              "#fb9f3a"
             ],
             [
              0.8888888888888888,
              "#fdca26"
             ],
             [
              1,
              "#f0f921"
             ]
            ],
            "type": "histogram2d"
           }
          ],
          "histogram2dcontour": [
           {
            "colorbar": {
             "outlinewidth": 0,
             "ticks": ""
            },
            "colorscale": [
             [
              0,
              "#0d0887"
             ],
             [
              0.1111111111111111,
              "#46039f"
             ],
             [
              0.2222222222222222,
              "#7201a8"
             ],
             [
              0.3333333333333333,
              "#9c179e"
             ],
             [
              0.4444444444444444,
              "#bd3786"
             ],
             [
              0.5555555555555556,
              "#d8576b"
             ],
             [
              0.6666666666666666,
              "#ed7953"
             ],
             [
              0.7777777777777778,
              "#fb9f3a"
             ],
             [
              0.8888888888888888,
              "#fdca26"
             ],
             [
              1,
              "#f0f921"
             ]
            ],
            "type": "histogram2dcontour"
           }
          ],
          "mesh3d": [
           {
            "colorbar": {
             "outlinewidth": 0,
             "ticks": ""
            },
            "type": "mesh3d"
           }
          ],
          "parcoords": [
           {
            "line": {
             "colorbar": {
              "outlinewidth": 0,
              "ticks": ""
             }
            },
            "type": "parcoords"
           }
          ],
          "pie": [
           {
            "automargin": true,
            "type": "pie"
           }
          ],
          "scatter": [
           {
            "marker": {
             "line": {
              "color": "#283442"
             }
            },
            "type": "scatter"
           }
          ],
          "scatter3d": [
           {
            "line": {
             "colorbar": {
              "outlinewidth": 0,
              "ticks": ""
             }
            },
            "marker": {
             "colorbar": {
              "outlinewidth": 0,
              "ticks": ""
             }
            },
            "type": "scatter3d"
           }
          ],
          "scattercarpet": [
           {
            "marker": {
             "colorbar": {
              "outlinewidth": 0,
              "ticks": ""
             }
            },
            "type": "scattercarpet"
           }
          ],
          "scattergeo": [
           {
            "marker": {
             "colorbar": {
              "outlinewidth": 0,
              "ticks": ""
             }
            },
            "type": "scattergeo"
           }
          ],
          "scattergl": [
           {
            "marker": {
             "line": {
              "color": "#283442"
             }
            },
            "type": "scattergl"
           }
          ],
          "scattermapbox": [
           {
            "marker": {
             "colorbar": {
              "outlinewidth": 0,
              "ticks": ""
             }
            },
            "type": "scattermapbox"
           }
          ],
          "scatterpolar": [
           {
            "marker": {
             "colorbar": {
              "outlinewidth": 0,
              "ticks": ""
             }
            },
            "type": "scatterpolar"
           }
          ],
          "scatterpolargl": [
           {
            "marker": {
             "colorbar": {
              "outlinewidth": 0,
              "ticks": ""
             }
            },
            "type": "scatterpolargl"
           }
          ],
          "scatterternary": [
           {
            "marker": {
             "colorbar": {
              "outlinewidth": 0,
              "ticks": ""
             }
            },
            "type": "scatterternary"
           }
          ],
          "surface": [
           {
            "colorbar": {
             "outlinewidth": 0,
             "ticks": ""
            },
            "colorscale": [
             [
              0,
              "#0d0887"
             ],
             [
              0.1111111111111111,
              "#46039f"
             ],
             [
              0.2222222222222222,
              "#7201a8"
             ],
             [
              0.3333333333333333,
              "#9c179e"
             ],
             [
              0.4444444444444444,
              "#bd3786"
             ],
             [
              0.5555555555555556,
              "#d8576b"
             ],
             [
              0.6666666666666666,
              "#ed7953"
             ],
             [
              0.7777777777777778,
              "#fb9f3a"
             ],
             [
              0.8888888888888888,
              "#fdca26"
             ],
             [
              1,
              "#f0f921"
             ]
            ],
            "type": "surface"
           }
          ],
          "table": [
           {
            "cells": {
             "fill": {
              "color": "#506784"
             },
             "line": {
              "color": "rgb(17,17,17)"
             }
            },
            "header": {
             "fill": {
              "color": "#2a3f5f"
             },
             "line": {
              "color": "rgb(17,17,17)"
             }
            },
            "type": "table"
           }
          ]
         },
         "layout": {
          "annotationdefaults": {
           "arrowcolor": "#f2f5fa",
           "arrowhead": 0,
           "arrowwidth": 1
          },
          "autotypenumbers": "strict",
          "coloraxis": {
           "colorbar": {
            "outlinewidth": 0,
            "ticks": ""
           }
          },
          "colorscale": {
           "diverging": [
            [
             0,
             "#8e0152"
            ],
            [
             0.1,
             "#c51b7d"
            ],
            [
             0.2,
             "#de77ae"
            ],
            [
             0.3,
             "#f1b6da"
            ],
            [
             0.4,
             "#fde0ef"
            ],
            [
             0.5,
             "#f7f7f7"
            ],
            [
             0.6,
             "#e6f5d0"
            ],
            [
             0.7,
             "#b8e186"
            ],
            [
             0.8,
             "#7fbc41"
            ],
            [
             0.9,
             "#4d9221"
            ],
            [
             1,
             "#276419"
            ]
           ],
           "sequential": [
            [
             0,
             "#0d0887"
            ],
            [
             0.1111111111111111,
             "#46039f"
            ],
            [
             0.2222222222222222,
             "#7201a8"
            ],
            [
             0.3333333333333333,
             "#9c179e"
            ],
            [
             0.4444444444444444,
             "#bd3786"
            ],
            [
             0.5555555555555556,
             "#d8576b"
            ],
            [
             0.6666666666666666,
             "#ed7953"
            ],
            [
             0.7777777777777778,
             "#fb9f3a"
            ],
            [
             0.8888888888888888,
             "#fdca26"
            ],
            [
             1,
             "#f0f921"
            ]
           ],
           "sequentialminus": [
            [
             0,
             "#0d0887"
            ],
            [
             0.1111111111111111,
             "#46039f"
            ],
            [
             0.2222222222222222,
             "#7201a8"
            ],
            [
             0.3333333333333333,
             "#9c179e"
            ],
            [
             0.4444444444444444,
             "#bd3786"
            ],
            [
             0.5555555555555556,
             "#d8576b"
            ],
            [
             0.6666666666666666,
             "#ed7953"
            ],
            [
             0.7777777777777778,
             "#fb9f3a"
            ],
            [
             0.8888888888888888,
             "#fdca26"
            ],
            [
             1,
             "#f0f921"
            ]
           ]
          },
          "colorway": [
           "#636efa",
           "#EF553B",
           "#00cc96",
           "#ab63fa",
           "#FFA15A",
           "#19d3f3",
           "#FF6692",
           "#B6E880",
           "#FF97FF",
           "#FECB52"
          ],
          "font": {
           "color": "#f2f5fa"
          },
          "geo": {
           "bgcolor": "rgb(17,17,17)",
           "lakecolor": "rgb(17,17,17)",
           "landcolor": "rgb(17,17,17)",
           "showlakes": true,
           "showland": true,
           "subunitcolor": "#506784"
          },
          "hoverlabel": {
           "align": "left"
          },
          "hovermode": "closest",
          "mapbox": {
           "style": "dark"
          },
          "paper_bgcolor": "rgb(17,17,17)",
          "plot_bgcolor": "rgb(17,17,17)",
          "polar": {
           "angularaxis": {
            "gridcolor": "#506784",
            "linecolor": "#506784",
            "ticks": ""
           },
           "bgcolor": "rgb(17,17,17)",
           "radialaxis": {
            "gridcolor": "#506784",
            "linecolor": "#506784",
            "ticks": ""
           }
          },
          "scene": {
           "xaxis": {
            "backgroundcolor": "rgb(17,17,17)",
            "gridcolor": "#506784",
            "gridwidth": 2,
            "linecolor": "#506784",
            "showbackground": true,
            "ticks": "",
            "zerolinecolor": "#C8D4E3"
           },
           "yaxis": {
            "backgroundcolor": "rgb(17,17,17)",
            "gridcolor": "#506784",
            "gridwidth": 2,
            "linecolor": "#506784",
            "showbackground": true,
            "ticks": "",
            "zerolinecolor": "#C8D4E3"
           },
           "zaxis": {
            "backgroundcolor": "rgb(17,17,17)",
            "gridcolor": "#506784",
            "gridwidth": 2,
            "linecolor": "#506784",
            "showbackground": true,
            "ticks": "",
            "zerolinecolor": "#C8D4E3"
           }
          },
          "shapedefaults": {
           "line": {
            "color": "#f2f5fa"
           }
          },
          "sliderdefaults": {
           "bgcolor": "#C8D4E3",
           "bordercolor": "rgb(17,17,17)",
           "borderwidth": 1,
           "tickwidth": 0
          },
          "ternary": {
           "aaxis": {
            "gridcolor": "#506784",
            "linecolor": "#506784",
            "ticks": ""
           },
           "baxis": {
            "gridcolor": "#506784",
            "linecolor": "#506784",
            "ticks": ""
           },
           "bgcolor": "rgb(17,17,17)",
           "caxis": {
            "gridcolor": "#506784",
            "linecolor": "#506784",
            "ticks": ""
           }
          },
          "title": {
           "x": 0.05
          },
          "updatemenudefaults": {
           "bgcolor": "#506784",
           "borderwidth": 0
          },
          "xaxis": {
           "automargin": true,
           "gridcolor": "#283442",
           "linecolor": "#506784",
           "ticks": "",
           "title": {
            "standoff": 15
           },
           "zerolinecolor": "#283442",
           "zerolinewidth": 2
          },
          "yaxis": {
           "automargin": true,
           "gridcolor": "#283442",
           "linecolor": "#506784",
           "ticks": "",
           "title": {
            "standoff": 15
           },
           "zerolinecolor": "#283442",
           "zerolinewidth": 2
          }
         }
        },
        "title": {
         "text": "Volume de Transações de Bitcoin por Hora (Comparação Global com Horário BRT)"
        },
        "xaxis": {
         "anchor": "y",
         "domain": [
          0,
          1
         ],
         "rangeslider": {
          "visible": true
         },
         "title": {
          "text": "Hora (BRT)"
         }
        },
        "yaxis": {
         "anchor": "x",
         "domain": [
          0,
          1
         ],
         "title": {
          "text": "Volume Total de Transações (BTC)"
         }
        }
       }
      },
      "text/html": [
       "<div>                            <div id=\"d568116f-42af-4ace-88e4-9b70c5ebf375\" class=\"plotly-graph-div\" style=\"height:525px; width:100%;\"></div>            <script type=\"text/javascript\">                require([\"plotly\"], function(Plotly) {                    window.PLOTLYENV=window.PLOTLYENV || {};                                    if (document.getElementById(\"d568116f-42af-4ace-88e4-9b70c5ebf375\")) {                    Plotly.newPlot(                        \"d568116f-42af-4ace-88e4-9b70c5ebf375\",                        [{\"hovertemplate\":\"variable=Volume_Brazil<br>Hora (BRT)=%{x}<br>value=%{y}<extra></extra>\",\"legendgroup\":\"Volume_Brazil\",\"line\":{\"color\":\"#636efa\",\"dash\":\"solid\"},\"marker\":{\"symbol\":\"circle\"},\"mode\":\"lines\",\"name\":\"Volume_Brazil\",\"orientation\":\"v\",\"showlegend\":true,\"x\":[0,1,2,3,4,5,6,7,8,9,10,11,12,13,14,15,16,17,18,19,20,21,22,23],\"xaxis\":\"x\",\"y\":[110922604544,91903556608,95659001856,97215305216,108148986880,104150913536,99137181696,92318456320,105246625280,131570557440,147929823744,201735719424,194935398912,177103823360,152565200896,161843222528,162012846080,155609076736,117401820160,101165505536,102231512064,103608233984,119697591296,115142831104],\"yaxis\":\"y\",\"type\":\"scatter\"},{\"hovertemplate\":\"variable=Volume_Asia<br>Hora (BRT)=%{x}<br>value=%{y}<extra></extra>\",\"legendgroup\":\"Volume_Asia\",\"line\":{\"color\":\"#EF553B\",\"dash\":\"solid\"},\"marker\":{\"symbol\":\"circle\"},\"mode\":\"lines\",\"name\":\"Volume_Asia\",\"orientation\":\"v\",\"showlegend\":true,\"x\":[0,1,2,3,4,5,6,7,8,9,10,11,12,13,14,15,16,17,18,19,20,21,22,23],\"xaxis\":\"x\",\"y\":[194935398912,177103823360,152565200896,161843222528,162012846080,155609076736,117401820160,101165505536,102231512064,103608233984,119697591296,115142831104,110922604544,91903556608,95659001856,97215305216,108148986880,104150913536,99137181696,92318456320,105246625280,131570557440,147929823744,201735719424],\"yaxis\":\"y\",\"type\":\"scatter\"},{\"hovertemplate\":\"variable=Volume_Europe<br>Hora (BRT)=%{x}<br>value=%{y}<extra></extra>\",\"legendgroup\":\"Volume_Europe\",\"line\":{\"color\":\"#00cc96\",\"dash\":\"solid\"},\"marker\":{\"symbol\":\"circle\"},\"mode\":\"lines\",\"name\":\"Volume_Europe\",\"orientation\":\"v\",\"showlegend\":true,\"x\":[0,1,2,3,4,5,6,7,8,9,10,11,12,13,14,15,16,17,18,19,20,21,22,23],\"xaxis\":\"x\",\"y\":[102231512064,103608233984,119697591296,115142831104,110922604544,91903556608,95659001856,97215305216,108148986880,104150913536,99137181696,92318456320,105246625280,131570557440,147929823744,201735719424,194935398912,177103823360,152565200896,161843222528,162012846080,155609076736,117401820160,101165505536],\"yaxis\":\"y\",\"type\":\"scatter\"},{\"hovertemplate\":\"variable=Volume_US<br>Hora (BRT)=%{x}<br>value=%{y}<extra></extra>\",\"legendgroup\":\"Volume_US\",\"line\":{\"color\":\"#ab63fa\",\"dash\":\"solid\"},\"marker\":{\"symbol\":\"circle\"},\"mode\":\"lines\",\"name\":\"Volume_US\",\"orientation\":\"v\",\"showlegend\":true,\"x\":[0,1,2,3,4,5,6,7,8,9,10,11,12,13,14,15,16,17,18,19,20,21,22,23],\"xaxis\":\"x\",\"y\":[95659001856,97215305216,108148986880,104150913536,99137181696,92318456320,105246625280,131570557440,147929823744,201735719424,194935398912,177103823360,152565200896,161843222528,162012846080,155609076736,117401820160,101165505536,102231512064,103608233984,119697591296,115142831104,110922604544,91903556608],\"yaxis\":\"y\",\"type\":\"scatter\"}],                        {\"template\":{\"data\":{\"barpolar\":[{\"marker\":{\"line\":{\"color\":\"rgb(17,17,17)\",\"width\":0.5},\"pattern\":{\"fillmode\":\"overlay\",\"size\":10,\"solidity\":0.2}},\"type\":\"barpolar\"}],\"bar\":[{\"error_x\":{\"color\":\"#f2f5fa\"},\"error_y\":{\"color\":\"#f2f5fa\"},\"marker\":{\"line\":{\"color\":\"rgb(17,17,17)\",\"width\":0.5},\"pattern\":{\"fillmode\":\"overlay\",\"size\":10,\"solidity\":0.2}},\"type\":\"bar\"}],\"carpet\":[{\"aaxis\":{\"endlinecolor\":\"#A2B1C6\",\"gridcolor\":\"#506784\",\"linecolor\":\"#506784\",\"minorgridcolor\":\"#506784\",\"startlinecolor\":\"#A2B1C6\"},\"baxis\":{\"endlinecolor\":\"#A2B1C6\",\"gridcolor\":\"#506784\",\"linecolor\":\"#506784\",\"minorgridcolor\":\"#506784\",\"startlinecolor\":\"#A2B1C6\"},\"type\":\"carpet\"}],\"choropleth\":[{\"colorbar\":{\"outlinewidth\":0,\"ticks\":\"\"},\"type\":\"choropleth\"}],\"contourcarpet\":[{\"colorbar\":{\"outlinewidth\":0,\"ticks\":\"\"},\"type\":\"contourcarpet\"}],\"contour\":[{\"colorbar\":{\"outlinewidth\":0,\"ticks\":\"\"},\"colorscale\":[[0.0,\"#0d0887\"],[0.1111111111111111,\"#46039f\"],[0.2222222222222222,\"#7201a8\"],[0.3333333333333333,\"#9c179e\"],[0.4444444444444444,\"#bd3786\"],[0.5555555555555556,\"#d8576b\"],[0.6666666666666666,\"#ed7953\"],[0.7777777777777778,\"#fb9f3a\"],[0.8888888888888888,\"#fdca26\"],[1.0,\"#f0f921\"]],\"type\":\"contour\"}],\"heatmapgl\":[{\"colorbar\":{\"outlinewidth\":0,\"ticks\":\"\"},\"colorscale\":[[0.0,\"#0d0887\"],[0.1111111111111111,\"#46039f\"],[0.2222222222222222,\"#7201a8\"],[0.3333333333333333,\"#9c179e\"],[0.4444444444444444,\"#bd3786\"],[0.5555555555555556,\"#d8576b\"],[0.6666666666666666,\"#ed7953\"],[0.7777777777777778,\"#fb9f3a\"],[0.8888888888888888,\"#fdca26\"],[1.0,\"#f0f921\"]],\"type\":\"heatmapgl\"}],\"heatmap\":[{\"colorbar\":{\"outlinewidth\":0,\"ticks\":\"\"},\"colorscale\":[[0.0,\"#0d0887\"],[0.1111111111111111,\"#46039f\"],[0.2222222222222222,\"#7201a8\"],[0.3333333333333333,\"#9c179e\"],[0.4444444444444444,\"#bd3786\"],[0.5555555555555556,\"#d8576b\"],[0.6666666666666666,\"#ed7953\"],[0.7777777777777778,\"#fb9f3a\"],[0.8888888888888888,\"#fdca26\"],[1.0,\"#f0f921\"]],\"type\":\"heatmap\"}],\"histogram2dcontour\":[{\"colorbar\":{\"outlinewidth\":0,\"ticks\":\"\"},\"colorscale\":[[0.0,\"#0d0887\"],[0.1111111111111111,\"#46039f\"],[0.2222222222222222,\"#7201a8\"],[0.3333333333333333,\"#9c179e\"],[0.4444444444444444,\"#bd3786\"],[0.5555555555555556,\"#d8576b\"],[0.6666666666666666,\"#ed7953\"],[0.7777777777777778,\"#fb9f3a\"],[0.8888888888888888,\"#fdca26\"],[1.0,\"#f0f921\"]],\"type\":\"histogram2dcontour\"}],\"histogram2d\":[{\"colorbar\":{\"outlinewidth\":0,\"ticks\":\"\"},\"colorscale\":[[0.0,\"#0d0887\"],[0.1111111111111111,\"#46039f\"],[0.2222222222222222,\"#7201a8\"],[0.3333333333333333,\"#9c179e\"],[0.4444444444444444,\"#bd3786\"],[0.5555555555555556,\"#d8576b\"],[0.6666666666666666,\"#ed7953\"],[0.7777777777777778,\"#fb9f3a\"],[0.8888888888888888,\"#fdca26\"],[1.0,\"#f0f921\"]],\"type\":\"histogram2d\"}],\"histogram\":[{\"marker\":{\"pattern\":{\"fillmode\":\"overlay\",\"size\":10,\"solidity\":0.2}},\"type\":\"histogram\"}],\"mesh3d\":[{\"colorbar\":{\"outlinewidth\":0,\"ticks\":\"\"},\"type\":\"mesh3d\"}],\"parcoords\":[{\"line\":{\"colorbar\":{\"outlinewidth\":0,\"ticks\":\"\"}},\"type\":\"parcoords\"}],\"pie\":[{\"automargin\":true,\"type\":\"pie\"}],\"scatter3d\":[{\"line\":{\"colorbar\":{\"outlinewidth\":0,\"ticks\":\"\"}},\"marker\":{\"colorbar\":{\"outlinewidth\":0,\"ticks\":\"\"}},\"type\":\"scatter3d\"}],\"scattercarpet\":[{\"marker\":{\"colorbar\":{\"outlinewidth\":0,\"ticks\":\"\"}},\"type\":\"scattercarpet\"}],\"scattergeo\":[{\"marker\":{\"colorbar\":{\"outlinewidth\":0,\"ticks\":\"\"}},\"type\":\"scattergeo\"}],\"scattergl\":[{\"marker\":{\"line\":{\"color\":\"#283442\"}},\"type\":\"scattergl\"}],\"scattermapbox\":[{\"marker\":{\"colorbar\":{\"outlinewidth\":0,\"ticks\":\"\"}},\"type\":\"scattermapbox\"}],\"scatterpolargl\":[{\"marker\":{\"colorbar\":{\"outlinewidth\":0,\"ticks\":\"\"}},\"type\":\"scatterpolargl\"}],\"scatterpolar\":[{\"marker\":{\"colorbar\":{\"outlinewidth\":0,\"ticks\":\"\"}},\"type\":\"scatterpolar\"}],\"scatter\":[{\"marker\":{\"line\":{\"color\":\"#283442\"}},\"type\":\"scatter\"}],\"scatterternary\":[{\"marker\":{\"colorbar\":{\"outlinewidth\":0,\"ticks\":\"\"}},\"type\":\"scatterternary\"}],\"surface\":[{\"colorbar\":{\"outlinewidth\":0,\"ticks\":\"\"},\"colorscale\":[[0.0,\"#0d0887\"],[0.1111111111111111,\"#46039f\"],[0.2222222222222222,\"#7201a8\"],[0.3333333333333333,\"#9c179e\"],[0.4444444444444444,\"#bd3786\"],[0.5555555555555556,\"#d8576b\"],[0.6666666666666666,\"#ed7953\"],[0.7777777777777778,\"#fb9f3a\"],[0.8888888888888888,\"#fdca26\"],[1.0,\"#f0f921\"]],\"type\":\"surface\"}],\"table\":[{\"cells\":{\"fill\":{\"color\":\"#506784\"},\"line\":{\"color\":\"rgb(17,17,17)\"}},\"header\":{\"fill\":{\"color\":\"#2a3f5f\"},\"line\":{\"color\":\"rgb(17,17,17)\"}},\"type\":\"table\"}]},\"layout\":{\"annotationdefaults\":{\"arrowcolor\":\"#f2f5fa\",\"arrowhead\":0,\"arrowwidth\":1},\"autotypenumbers\":\"strict\",\"coloraxis\":{\"colorbar\":{\"outlinewidth\":0,\"ticks\":\"\"}},\"colorscale\":{\"diverging\":[[0,\"#8e0152\"],[0.1,\"#c51b7d\"],[0.2,\"#de77ae\"],[0.3,\"#f1b6da\"],[0.4,\"#fde0ef\"],[0.5,\"#f7f7f7\"],[0.6,\"#e6f5d0\"],[0.7,\"#b8e186\"],[0.8,\"#7fbc41\"],[0.9,\"#4d9221\"],[1,\"#276419\"]],\"sequential\":[[0.0,\"#0d0887\"],[0.1111111111111111,\"#46039f\"],[0.2222222222222222,\"#7201a8\"],[0.3333333333333333,\"#9c179e\"],[0.4444444444444444,\"#bd3786\"],[0.5555555555555556,\"#d8576b\"],[0.6666666666666666,\"#ed7953\"],[0.7777777777777778,\"#fb9f3a\"],[0.8888888888888888,\"#fdca26\"],[1.0,\"#f0f921\"]],\"sequentialminus\":[[0.0,\"#0d0887\"],[0.1111111111111111,\"#46039f\"],[0.2222222222222222,\"#7201a8\"],[0.3333333333333333,\"#9c179e\"],[0.4444444444444444,\"#bd3786\"],[0.5555555555555556,\"#d8576b\"],[0.6666666666666666,\"#ed7953\"],[0.7777777777777778,\"#fb9f3a\"],[0.8888888888888888,\"#fdca26\"],[1.0,\"#f0f921\"]]},\"colorway\":[\"#636efa\",\"#EF553B\",\"#00cc96\",\"#ab63fa\",\"#FFA15A\",\"#19d3f3\",\"#FF6692\",\"#B6E880\",\"#FF97FF\",\"#FECB52\"],\"font\":{\"color\":\"#f2f5fa\"},\"geo\":{\"bgcolor\":\"rgb(17,17,17)\",\"lakecolor\":\"rgb(17,17,17)\",\"landcolor\":\"rgb(17,17,17)\",\"showlakes\":true,\"showland\":true,\"subunitcolor\":\"#506784\"},\"hoverlabel\":{\"align\":\"left\"},\"hovermode\":\"closest\",\"mapbox\":{\"style\":\"dark\"},\"paper_bgcolor\":\"rgb(17,17,17)\",\"plot_bgcolor\":\"rgb(17,17,17)\",\"polar\":{\"angularaxis\":{\"gridcolor\":\"#506784\",\"linecolor\":\"#506784\",\"ticks\":\"\"},\"bgcolor\":\"rgb(17,17,17)\",\"radialaxis\":{\"gridcolor\":\"#506784\",\"linecolor\":\"#506784\",\"ticks\":\"\"}},\"scene\":{\"xaxis\":{\"backgroundcolor\":\"rgb(17,17,17)\",\"gridcolor\":\"#506784\",\"gridwidth\":2,\"linecolor\":\"#506784\",\"showbackground\":true,\"ticks\":\"\",\"zerolinecolor\":\"#C8D4E3\"},\"yaxis\":{\"backgroundcolor\":\"rgb(17,17,17)\",\"gridcolor\":\"#506784\",\"gridwidth\":2,\"linecolor\":\"#506784\",\"showbackground\":true,\"ticks\":\"\",\"zerolinecolor\":\"#C8D4E3\"},\"zaxis\":{\"backgroundcolor\":\"rgb(17,17,17)\",\"gridcolor\":\"#506784\",\"gridwidth\":2,\"linecolor\":\"#506784\",\"showbackground\":true,\"ticks\":\"\",\"zerolinecolor\":\"#C8D4E3\"}},\"shapedefaults\":{\"line\":{\"color\":\"#f2f5fa\"}},\"sliderdefaults\":{\"bgcolor\":\"#C8D4E3\",\"bordercolor\":\"rgb(17,17,17)\",\"borderwidth\":1,\"tickwidth\":0},\"ternary\":{\"aaxis\":{\"gridcolor\":\"#506784\",\"linecolor\":\"#506784\",\"ticks\":\"\"},\"baxis\":{\"gridcolor\":\"#506784\",\"linecolor\":\"#506784\",\"ticks\":\"\"},\"bgcolor\":\"rgb(17,17,17)\",\"caxis\":{\"gridcolor\":\"#506784\",\"linecolor\":\"#506784\",\"ticks\":\"\"}},\"title\":{\"x\":0.05},\"updatemenudefaults\":{\"bgcolor\":\"#506784\",\"borderwidth\":0},\"xaxis\":{\"automargin\":true,\"gridcolor\":\"#283442\",\"linecolor\":\"#506784\",\"ticks\":\"\",\"title\":{\"standoff\":15},\"zerolinecolor\":\"#283442\",\"zerolinewidth\":2},\"yaxis\":{\"automargin\":true,\"gridcolor\":\"#283442\",\"linecolor\":\"#506784\",\"ticks\":\"\",\"title\":{\"standoff\":15},\"zerolinecolor\":\"#283442\",\"zerolinewidth\":2}}},\"xaxis\":{\"anchor\":\"y\",\"domain\":[0.0,1.0],\"title\":{\"text\":\"Hora (BRT)\"},\"rangeslider\":{\"visible\":true}},\"yaxis\":{\"anchor\":\"x\",\"domain\":[0.0,1.0],\"title\":{\"text\":\"Volume Total de Transa\\u00e7\\u00f5es (BTC)\"}},\"legend\":{\"title\":{\"text\":\"variable\"},\"tracegroupgap\":0},\"title\":{\"text\":\"Volume de Transa\\u00e7\\u00f5es de Bitcoin por Hora (Compara\\u00e7\\u00e3o Global com Hor\\u00e1rio BRT)\"},\"annotations\":[{\"align\":\"center\",\"font\":{\"color\":\"white\",\"size\":12},\"showarrow\":false,\"text\":\"Dados de Transa\\u00e7\\u00f5es de Bitcoin para o \\u00daltimo Ano\",\"x\":0.5,\"xref\":\"paper\",\"y\":-0.15,\"yref\":\"paper\"}],\"hovermode\":\"x unified\",\"showlegend\":true},                        {\"responsive\": true}                    ).then(function(){\n",
       "                            \n",
       "var gd = document.getElementById('d568116f-42af-4ace-88e4-9b70c5ebf375');\n",
       "var x = new MutationObserver(function (mutations, observer) {{\n",
       "        var display = window.getComputedStyle(gd).display;\n",
       "        if (!display || display === 'none') {{\n",
       "            console.log([gd, 'removed!']);\n",
       "            Plotly.purge(gd);\n",
       "            observer.disconnect();\n",
       "        }}\n",
       "}});\n",
       "\n",
       "// Listen for the removal of the full notebook cells\n",
       "var notebookContainer = gd.closest('#notebook-container');\n",
       "if (notebookContainer) {{\n",
       "    x.observe(notebookContainer, {childList: true});\n",
       "}}\n",
       "\n",
       "// Listen for the clearing of the current output cell\n",
       "var outputEl = gd.closest('.output');\n",
       "if (outputEl) {{\n",
       "    x.observe(outputEl, {childList: true});\n",
       "}}\n",
       "\n",
       "                        })                };                });            </script>        </div>"
      ]
     },
     "metadata": {},
     "output_type": "display_data"
    }
   ],
   "source": [
    "import plotly.express as px\n",
    "\n",
    "# Baixar dados históricos de Bitcoin (BTC-USD) para o último ano, com intervalo de 1 hora\n",
    "btc_data = yf.download(\"BTC-USD\", period=\"1y\", interval=\"1h\")\n",
    "\n",
    "# Verificar se o índice já tem fuso horário\n",
    "if btc_data.index.tz is None:\n",
    "    # Se o índice não tiver fuso horário, localize para UTC\n",
    "    btc_data.index = btc_data.index.tz_localize('UTC')\n",
    "else:\n",
    "    # Se já tiver fuso horário, apenas converta para o horário UTC\n",
    "    btc_data.index = btc_data.index.tz_convert('UTC')\n",
    "\n",
    "# Adicionar uma coluna com a hora no horário UTC\n",
    "btc_data['Hour_UTC'] = btc_data.index.hour\n",
    "\n",
    "# Converter para horário de Brasília (BRT), ajustando para UTC -3\n",
    "btc_data['Hour_BRT'] = (btc_data['Hour_UTC'] - 3) % 24  # Ajuste para BRT\n",
    "\n",
    "# Criar colunas para os fusos horários de Ásia (Tóquio), Europa (CET), EUA (East)\n",
    "btc_data['Hour_Asia'] = (btc_data.index.hour + 9) % 24  # Tóquio (UTC +9)\n",
    "btc_data['Hour_Europe'] = (btc_data.index.hour + 1) % 24  # Europa Central (UTC +1)\n",
    "btc_data['Hour_US'] = (btc_data.index.hour - 5) % 24  # EUA (Eastern Time UTC -5)\n",
    "\n",
    "# Calcular o volume total por hora para cada fuso horário\n",
    "volume_brazil = btc_data.groupby('Hour_BRT')['Volume'].sum()\n",
    "volume_asia = btc_data.groupby('Hour_Asia')['Volume'].sum()\n",
    "volume_europe = btc_data.groupby('Hour_Europe')['Volume'].sum()\n",
    "volume_us = btc_data.groupby('Hour_US')['Volume'].sum()\n",
    "\n",
    "# Criar DataFrame com volumes por hora para cada região\n",
    "hourly_volume = pd.DataFrame({\n",
    "    'Hour_BRT': volume_brazil.index,\n",
    "    'Volume_Brazil': volume_brazil.values,\n",
    "    'Volume_Asia': volume_asia.reindex(volume_brazil.index, fill_value=0).values,\n",
    "    'Volume_Europe': volume_europe.reindex(volume_brazil.index, fill_value=0).values,\n",
    "    'Volume_US': volume_us.reindex(volume_brazil.index, fill_value=0).values\n",
    "})\n",
    "\n",
    "# Criar o gráfico interativo com Plotly\n",
    "fig = px.line(hourly_volume, \n",
    "              x='Hour_BRT', \n",
    "              y=['Volume_Brazil', 'Volume_Asia', 'Volume_Europe', 'Volume_US'],\n",
    "              title='Volume de Transações de Bitcoin por Hora (Comparação Global com Horário BRT)',\n",
    "              labels={'Hour_BRT': 'Hora (BRT)', \n",
    "                      'Volume_Brazil': 'Volume (Brasil)',\n",
    "                      'Volume_Asia': 'Volume (Ásia)', \n",
    "                      'Volume_Europe': 'Volume (Europa)', \n",
    "                      'Volume_US': 'Volume (EUA)'},\n",
    "              template='plotly_dark')\n",
    "\n",
    "# Adicionar uma legenda indicando que os dados são do último ano\n",
    "fig.add_annotation(\n",
    "    x=0.5,\n",
    "    y=-0.15,\n",
    "    xref=\"paper\",\n",
    "    yref=\"paper\",\n",
    "    text=\"Dados de Transações de Bitcoin para o Último Ano\",\n",
    "    showarrow=False,\n",
    "    font=dict(size=12, color=\"white\"),\n",
    "    align=\"center\"\n",
    ")\n",
    "\n",
    "# Adicionar opções de zoom para semanas, meses, etc.\n",
    "fig.update_layout(\n",
    "    xaxis_rangeslider_visible=True,  # Ativar controle de zoom para o eixo x\n",
    "    xaxis_title='Hora (BRT)',\n",
    "    yaxis_title='Volume Total de Transações (BTC)',\n",
    "    hovermode='x unified',\n",
    "    showlegend=True\n",
    ")\n",
    "\n",
    "# Mostrar o gráfico interativo\n",
    "fig.show()\n"
   ]
  },
  {
   "cell_type": "code",
   "execution_count": 16,
   "id": "13cbd9d4",
   "metadata": {},
   "outputs": [
    {
     "name": "stderr",
     "output_type": "stream",
     "text": [
      "[*********************100%***********************]  1 of 1 completed\n"
     ]
    },
    {
     "data": {
      "image/png": "[encoded data removed]",
      "text/plain": [
       "<Figure size 1000x600 with 1 Axes>"
      ]
     },
     "metadata": {},
     "output_type": "display_data"
    }
   ],
   "source": [
    "import seaborn as sns\n",
    "\n",
    "\n",
    "# Baixar dados históricos de Bitcoin (BTC-USD) para o último ano, com intervalo de 1 hora\n",
    "btc_data = yf.download(\"BTC-USD\", period=\"1y\", interval=\"1h\")\n",
    "\n",
    "# Verificar se o índice já tem fuso horário\n",
    "if btc_data.index.tz is None:\n",
    "    # Se o índice não tiver fuso horário, localize para UTC\n",
    "    btc_data.index = btc_data.index.tz_localize('UTC')\n",
    "else:\n",
    "    # Se já tiver fuso horário, apenas converta para o horário UTC\n",
    "    btc_data.index = btc_data.index.tz_convert('UTC')\n",
    "\n",
    "# Adicionar uma coluna com a hora no horário UTC\n",
    "btc_data['Hour_UTC'] = btc_data.index.hour\n",
    "\n",
    "# Converter para horário de Brasília (BRT), ajustando para UTC -3\n",
    "btc_data['Hour_BRT'] = (btc_data['Hour_UTC'] - 3) % 24  # Ajuste para BRT\n",
    "\n",
    "# Criar colunas para os fusos horários de Ásia (Tóquio), Europa (CET), EUA (East)\n",
    "btc_data['Hour_Asia'] = (btc_data.index.hour + 9) % 24  # Tóquio (UTC +9)\n",
    "btc_data['Hour_Europe'] = (btc_data.index.hour + 1) % 24  # Europa Central (UTC +1)\n",
    "btc_data['Hour_US'] = (btc_data.index.hour - 5) % 24  # EUA (Eastern Time UTC -5)\n",
    "\n",
    "# Calcular o volume total por hora para cada fuso horário\n",
    "volume_brazil = btc_data.groupby('Hour_BRT')['Volume'].sum()\n",
    "volume_asia = btc_data.groupby('Hour_Asia')['Volume'].sum()\n",
    "volume_europe = btc_data.groupby('Hour_Europe')['Volume'].sum()\n",
    "volume_us = btc_data.groupby('Hour_US')['Volume'].sum()\n",
    "\n",
    "# Criar DataFrame com volumes por hora para cada região\n",
    "hourly_volume = pd.DataFrame({\n",
    "    'Hour_BRT': volume_brazil.index,\n",
    "    'Volume_Brazil': volume_brazil.values,\n",
    "    'Volume_Asia': volume_asia.reindex(volume_brazil.index, fill_value=0).values,\n",
    "    'Volume_Europe': volume_europe.reindex(volume_brazil.index, fill_value=0).values,\n",
    "    'Volume_US': volume_us.reindex(volume_brazil.index, fill_value=0).values\n",
    "})\n",
    "\n",
    "# Criar o gráfico com Seaborn\n",
    "plt.figure(figsize=(10, 6))\n",
    "sns.lineplot(data=hourly_volume, x='Hour_BRT', y='Volume_Brazil', label='Volume (Brasil)', color='cyan', linewidth=2)\n",
    "sns.lineplot(data=hourly_volume, x='Hour_BRT', y='Volume_Asia', label='Volume (Ásia)', color='green', linewidth=2)\n",
    "sns.lineplot(data=hourly_volume, x='Hour_BRT', y='Volume_Europe', label='Volume (Europa)', color='blue', linewidth=2)\n",
    "sns.lineplot(data=hourly_volume, x='Hour_BRT', y='Volume_US', label='Volume (EUA)', color='orange', linewidth=2)\n",
    "\n",
    "# Personalizar o gráfico\n",
    "plt.title('Volume de Transações de Bitcoin por Hora (Comparação Global com Horário BRT)', fontsize=16)\n",
    "plt.xlabel('Hora (BRT)', fontsize=12)\n",
    "plt.ylabel('Volume Total de Transações (BTC)', fontsize=12)\n",
    "plt.xticks(range(0, 24))  # Exibir todas as horas de 0 a 23\n",
    "plt.grid(True, linestyle='--', alpha=0.6)\n",
    "\n",
    "# Adicionar legenda\n",
    "plt.legend(title=\"Regiões\", fontsize=10)\n",
    "\n",
    "# Adicionar uma anotação informando que os dados são do último ano\n",
    "plt.annotate(\"Dados de Transações de Bitcoin para o Último Ano\", \n",
    "             xy=(0.5, -0.1), xycoords='axes fraction', \n",
    "             ha='center', va='center', fontsize=10, color='white')\n",
    "\n",
    "# Exibir o gráfico\n",
    "plt.tight_layout()\n",
    "plt.show()\n"
   ]
  },
  {
   "cell_type": "code",
   "execution_count": 31,
   "id": "3b4b42d9",
   "metadata": {},
   "outputs": [
    {
     "name": "stderr",
     "output_type": "stream",
     "text": [
      "[*********************100%***********************]  1 of 1 completed\n"
     ]
    },
    {
     "name": "stdout",
     "output_type": "stream",
     "text": [
      "Menor taxas de transação em horário de Brasília é às 1:00, com um volume total de 130,425,351,168.00 BTC.\n"
     ]
    },
    {
     "data": {
      "image/png": "[encoded data removed]",
      "text/plain": [
       "<Figure size 1000x600 with 1 Axes>"
      ]
     },
     "metadata": {},
     "output_type": "display_data"
    }
   ],
   "source": [
    "import matplotlib.pyplot as plt\n",
    "\n",
    "# Baixar dados históricos de Bitcoin (BTC-USD) com intervalo de 1 hora e período de 2 anos\n",
    "btc_data = yf.download(\"BTC-USD\", period=\"2y\", interval=\"1h\")\n",
    "\n",
    "# Verificar se o índice já tem fuso horário\n",
    "if btc_data.index.tz is None:\n",
    "    # Se o índice não tiver fuso horário, localize para UTC\n",
    "    btc_data.index = btc_data.index.tz_localize('UTC')\n",
    "else:\n",
    "    # Se já tiver fuso horário, apenas converta para o horário de Brasília (BRT)\n",
    "    btc_data.index = btc_data.index.tz_convert('UTC')\n",
    "\n",
    "# Converter para o horário de Brasília (BRT)\n",
    "btc_data.index = btc_data.index.tz_convert('America/Sao_Paulo')\n",
    "\n",
    "# Adicionar uma coluna com a hora no horário de Brasília (BRT)\n",
    "btc_data['Hour'] = btc_data.index.hour\n",
    "\n",
    "# Calcular o volume total por hora\n",
    "hourly_volume = btc_data.groupby('Hour')['Volume'].sum()\n",
    "\n",
    "# Identificar o horário com menor volume de transações (melhor hora para pagar menos taxas)\n",
    "best_hour_volume = hourly_volume.idxmin()\n",
    "best_hour_volume_value = hourly_volume.min()\n",
    "\n",
    "# Exibir a melhor hora com o volume total formatado\n",
    "print(f\"Menor taxas de transação em horário de Brasília é às {best_hour_volume}:00, com um volume total de {best_hour_volume_value:,.2f} BTC.\")\n",
    "\n",
    "# Plotar o gráfico dos volumes de transações por hora\n",
    "plt.figure(figsize=(10, 6))\n",
    "plt.plot(hourly_volume.index, hourly_volume.values, marker='o', linestyle='-', color='b')\n",
    "plt.title(\"Volume de Transações de Bitcoin por Hora do Dia (Últimos 2 Anos - Horário de Brasília)\", fontsize=14)\n",
    "plt.xlabel(\"Hora do Dia (BRT)\", fontsize=12)\n",
    "plt.ylabel(\"Volume Total de Transações (BTC)\", fontsize=12)\n",
    "plt.grid(alpha=0.3)\n",
    "plt.xticks(range(0, 24))\n",
    "\n",
    "# Adicionar uma linha vertical indicando a melhor hora (menor volume)\n",
    "plt.axvline(best_hour_volume, color='r', linestyle='--', label=f\"Melhor Horário: {best_hour_volume}:00 (Menor Volume)\")\n",
    "\n",
    "# Formatando as legendas e valores com vírgulas\n",
    "plt.legend()\n",
    "\n",
    "# Salvar o gráfico como uma imagem (por exemplo, PNG)\n",
    "plt.tight_layout()\n",
    "plt.savefig(\"volume_transacoes_btc_por_hora.png\", format='png')  # Salvar no formato PNG\n",
    "\n",
    "# Exibir o gráfico\n",
    "plt.show()\n"
   ]
  }
 ],
 "metadata": {
  "kernelspec": {
   "display_name": "Python 3 (ipykernel)",
   "language": "python",
   "name": "python3"
  },
  "language_info": {
   "codemirror_mode": {
    "name": "ipython",
    "version": 3
   },
   "file_extension": ".py",
   "mimetype": "text/x-python",
   "name": "python",
   "nbconvert_exporter": "python",
   "pygments_lexer": "ipython3",
   "version": "3.11.5"
  }
 },
 "nbformat": 4,
 "nbformat_minor": 5
}
